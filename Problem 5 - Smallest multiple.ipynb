{
 "cells": [
  {
   "cell_type": "markdown",
   "metadata": {},
   "source": [
    "2520 is the smallest number that can be divided by each of the numbers from 1 to 10 without any remainder.\n",
    "\n",
    "What is the smallest positive number that is evenly divisible by all of the numbers from 1 to 20?"
   ]
  },
  {
   "cell_type": "code",
   "execution_count": 61,
   "metadata": {},
   "outputs": [
    {
     "name": "stdout",
     "output_type": "stream",
     "text": [
      "LCM is: 232792560\n"
     ]
    }
   ],
   "source": [
    "import pandas as pd\n",
    "import numpy as np\n",
    "\n",
    "n = 20\n",
    "\n",
    "def isprime(n):\n",
    "    for i in range(2,int(round(np.sqrt(n))) + 1):\n",
    "        if n % i == 0:\n",
    "            return False\n",
    "    return True\n",
    "\n",
    "def lcm_map(n, divisor):\n",
    "    if n == 1:\n",
    "        return n\n",
    "    elif n / divisor == 1:\n",
    "        return 1\n",
    "    elif n < divisor:\n",
    "        return n\n",
    "    elif n % divisor == 0:\n",
    "        return int(n/divisor)\n",
    "    else:\n",
    "        return n\n",
    "\n",
    "prime_lst = list(filter(lambda x: isprime(x), range(2,n + 1)))\n",
    "num_lst = list(range(1, n + 1))\n",
    "\n",
    "i = 0\n",
    "new_lst = num_lst\n",
    "curr_prime = 0\n",
    "lcm = 1\n",
    "while i < len(prime_lst):\n",
    "    curr_prime = prime_lst[i]\n",
    "    if curr_prime in new_lst:\n",
    "        new_lst = list(map(lambda x: lcm_map(x, curr_prime), new_lst))\n",
    "        lcm = lcm * curr_prime\n",
    "    else:\n",
    "        i += 1\n",
    "\n",
    "print(\"LCM is: {0}\".format(lcm))"
   ]
  },
  {
   "cell_type": "code",
   "execution_count": null,
   "metadata": {},
   "outputs": [],
   "source": []
  }
 ],
 "metadata": {
  "kernelspec": {
   "display_name": "Python 3",
   "language": "python",
   "name": "python3"
  },
  "language_info": {
   "codemirror_mode": {
    "name": "ipython",
    "version": 3
   },
   "file_extension": ".py",
   "mimetype": "text/x-python",
   "name": "python",
   "nbconvert_exporter": "python",
   "pygments_lexer": "ipython3",
   "version": "3.6.1"
  }
 },
 "nbformat": 4,
 "nbformat_minor": 2
}
