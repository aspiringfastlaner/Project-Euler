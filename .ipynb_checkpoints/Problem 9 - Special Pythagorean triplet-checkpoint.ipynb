{
 "cells": [
  {
   "cell_type": "markdown",
   "metadata": {},
   "source": [
    "A Pythagorean triplet is a set of three natural numbers, a < b < c, for which,\n",
    "\n",
    "a2 + b2 = c2\n",
    "For example, 3^2 + 4^2 = 9 + 16 = 25 = 5^2.\n",
    "\n",
    "There exists exactly one Pythagorean triplet for which a + b + c = 1000.\n",
    "Find the product abc."
   ]
  },
  {
   "cell_type": "code",
   "execution_count": 19,
   "metadata": {},
   "outputs": [
    {
     "name": "stdout",
     "output_type": "stream",
     "text": [
      "The triplet is: 200, 375, 425\n"
     ]
    }
   ],
   "source": [
    "n = 500\n",
    "\n",
    "def find_triplet(n):\n",
    "    for c in range(1, n + 1):\n",
    "        for b in range(1, c + 1):\n",
    "            for a in range(1, b + 1):\n",
    "                if (a**2 + b**2 == c**2) and (a + b + c == 1000):\n",
    "                    return [a, b, c]\n",
    "\n",
    "lst = find_triplet(1000)\n",
    "print(\"The triplet is: {0}, {1}, {2}\".format(lst[0],lst[1],lst[2]))"
   ]
  }
 ],
 "metadata": {
  "kernelspec": {
   "display_name": "Python 3",
   "language": "python",
   "name": "python3"
  },
  "language_info": {
   "codemirror_mode": {
    "name": "ipython",
    "version": 3
   },
   "file_extension": ".py",
   "mimetype": "text/x-python",
   "name": "python",
   "nbconvert_exporter": "python",
   "pygments_lexer": "ipython3",
   "version": "3.6.1"
  }
 },
 "nbformat": 4,
 "nbformat_minor": 2
}
