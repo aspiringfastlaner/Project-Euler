{
 "cells": [
  {
   "cell_type": "markdown",
   "metadata": {},
   "source": [
    "The sum of the primes below 10 is 2 + 3 + 5 + 7 = 17.\n",
    "\n",
    "Find the sum of all the primes below two million."
   ]
  },
  {
   "cell_type": "code",
   "execution_count": 7,
   "metadata": {},
   "outputs": [
    {
     "name": "stdout",
     "output_type": "stream",
     "text": [
      "Sum of primes is: 142913828923\n"
     ]
    }
   ],
   "source": [
    "import numpy as np\n",
    "\n",
    "def isprime(n):\n",
    "    for i in list(range(2,int(np.sqrt(n) + 1))):\n",
    "        if n % i == 0:\n",
    "            return False\n",
    "    return True\n",
    "\n",
    "n = 2000000\n",
    "\n",
    "prime_sum = sum(filter(lambda x: isprime(x), range(n)))\n",
    "\n",
    "print(\"Sum of primes is: {0}\".format(prime_sum))\n",
    "\n",
    "# Note 1 is counted as prime"
   ]
  }
 ],
 "metadata": {
  "kernelspec": {
   "display_name": "Python 3",
   "language": "python",
   "name": "python3"
  },
  "language_info": {
   "codemirror_mode": {
    "name": "ipython",
    "version": 3
   },
   "file_extension": ".py",
   "mimetype": "text/x-python",
   "name": "python",
   "nbconvert_exporter": "python",
   "pygments_lexer": "ipython3",
   "version": "3.6.1"
  }
 },
 "nbformat": 4,
 "nbformat_minor": 2
}
