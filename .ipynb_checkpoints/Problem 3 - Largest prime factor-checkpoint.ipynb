{
 "cells": [
  {
   "cell_type": "markdown",
   "metadata": {},
   "source": [
    "The prime factors of 13195 are 5, 7, 13 and 29.\n",
    "\n",
    "What is the largest prime factor of the number 600851475143 ?"
   ]
  },
  {
   "cell_type": "code",
   "execution_count": 33,
   "metadata": {},
   "outputs": [
    {
     "name": "stdout",
     "output_type": "stream",
     "text": [
      "Largest Prime is: 6857.0\n"
     ]
    }
   ],
   "source": [
    "largest_prime = 0\n",
    "n = 600851475143\n",
    "new_n = n\n",
    "current = 2\n",
    "\n",
    "while current**2 <= new_n:\n",
    "    if new_n % current == 0:\n",
    "        new_n = new_n/current\n",
    "        largest_prime = current\n",
    "    else:\n",
    "        current += 1\n",
    "\n",
    "if new_n > largest_prime:\n",
    "    largest_prime = new_n\n",
    "    \n",
    "print(\"Largest Prime is: {0}\".format(largest_prime))"
   ]
  }
 ],
 "metadata": {
  "kernelspec": {
   "display_name": "Python 3",
   "language": "python",
   "name": "python3"
  },
  "language_info": {
   "codemirror_mode": {
    "name": "ipython",
    "version": 3
   },
   "file_extension": ".py",
   "mimetype": "text/x-python",
   "name": "python",
   "nbconvert_exporter": "python",
   "pygments_lexer": "ipython3",
   "version": "3.6.1"
  }
 },
 "nbformat": 4,
 "nbformat_minor": 2
}
