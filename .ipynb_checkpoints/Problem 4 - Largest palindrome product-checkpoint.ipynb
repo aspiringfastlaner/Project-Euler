{
 "cells": [
  {
   "cell_type": "markdown",
   "metadata": {},
   "source": [
    "A palindromic number reads the same both ways. The largest palindrome made from the product of two 2-digit numbers is 9009 = 91 × 99.\n",
    "\n",
    "Find the largest palindrome made from the product of two 3-digit numbers."
   ]
  },
  {
   "cell_type": "code",
   "execution_count": 33,
   "metadata": {},
   "outputs": [
    {
     "name": "stdout",
     "output_type": "stream",
     "text": [
      "Largest Palindrome Product: 906609\n",
      "Numbers are: 913 and 993\n"
     ]
    }
   ],
   "source": [
    "largest_pali = 0\n",
    "n = 1000\n",
    "num1 = 0\n",
    "num2 = 0\n",
    "\n",
    "def ispalindrome(n):\n",
    "    nstring = str(n)\n",
    "    step = len(nstring)//2\n",
    "    for i in range(step):\n",
    "        if nstring[i] != nstring[len(nstring) - 1 - i]:\n",
    "            return False\n",
    "    return True\n",
    "\n",
    "for i in range(100, n):\n",
    "    for j in range(i, n):\n",
    "        if ispalindrome(i*j):\n",
    "            if i*j > largest_pali:\n",
    "                largest_pali = i*j\n",
    "                num1 = i\n",
    "                num2 = j\n",
    "\n",
    "print(\"Largest Palindrome Product: {0}\".format(largest_pali))\n",
    "print(\"Numbers are: {0} and {1}\".format(num1,num2))"
   ]
  },
  {
   "cell_type": "code",
   "execution_count": null,
   "metadata": {},
   "outputs": [],
   "source": []
  }
 ],
 "metadata": {
  "kernelspec": {
   "display_name": "Python 3",
   "language": "python",
   "name": "python3"
  },
  "language_info": {
   "codemirror_mode": {
    "name": "ipython",
    "version": 3
   },
   "file_extension": ".py",
   "mimetype": "text/x-python",
   "name": "python",
   "nbconvert_exporter": "python",
   "pygments_lexer": "ipython3",
   "version": "3.6.1"
  }
 },
 "nbformat": 4,
 "nbformat_minor": 2
}
