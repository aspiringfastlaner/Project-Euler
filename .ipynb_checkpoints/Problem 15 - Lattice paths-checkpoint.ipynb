{
 "cells": [
  {
   "cell_type": "markdown",
   "metadata": {},
   "source": [
    "Starting in the top left corner of a 2×2 grid, and only being able to move to the right and down, there are exactly 6 routes to the bottom right corner.\n",
    "\n",
    "\n",
    "How many such routes are there through a 20×20 grid?\n",
    "\n",
    "In order to pose the question as a combinatorics question, we must realise a few things. I have generalised the observations to an NxN grid.\n",
    "\n",
    "All paths can be described as a series of directions. And since we can only go down and right, we could describe the paths as a series of Ds and Rs. In a 2×2 grid all paths are 1) DDRR 2) DRDR 3) DRRD 4) RDRD 5) RDDR 6) RRDD.\n",
    "Based on the example we can see that all paths have exactly size 2N of which there are N Rs and N Ds.\n",
    "If we have 2N empty spaces and place all Rs, then the placement of the Ds are given\n",
    "Once we have made these realisations, we can repose the question as\n",
    "\n",
    "In how many ways can we choose N out of 2N possible places if the order does not matter?\n",
    "And combinatorics gives us an easy answer to that. The Binomial Coefficient gives us exactly the tool we need to answer the above question. The question is usually posed as\n",
    "\n",
    "\\displaystyle \\binom{2N}{N} = \\binom{n}{k}\n",
    "\n",
    "And using the multiplicative formula we can express it as\n",
    "\n",
    "\\displaystyle \\binom{n}{k} = \\frac{n(n-1)(n-2)\\hdots(n-k 1)}{k(k-1)(k-2)\\hdots1} = \\prod_{i=1}^k \\frac{n-k i}{i}\n",
    "\n",
    "We could also express it as a factorial expression, but that usually gives problems with very large numbers when we try to make the calculations."
   ]
  },
  {
   "cell_type": "code",
   "execution_count": 10,
   "metadata": {},
   "outputs": [
    {
     "name": "stdout",
     "output_type": "stream",
     "text": [
      "Number of paths is 137846528820.0 in 0.0 seconds\n"
     ]
    }
   ],
   "source": [
    "import time\n",
    "\n",
    "start = time.time()\n",
    "\n",
    "gridSize = 20;\n",
    "paths = 1;\n",
    " \n",
    "for i in range(gridSize):\n",
    "    paths *= (2 * gridSize) - i\n",
    "    paths /= i + 1\n",
    "\n",
    "end = time.time() - start\n",
    "print(\"Number of paths is {0} in {1} seconds\".format(paths, end))"
   ]
  },
  {
   "cell_type": "code",
   "execution_count": null,
   "metadata": {
    "collapsed": true
   },
   "outputs": [],
   "source": []
  }
 ],
 "metadata": {
  "kernelspec": {
   "display_name": "Python 3",
   "language": "python",
   "name": "python3"
  },
  "language_info": {
   "codemirror_mode": {
    "name": "ipython",
    "version": 3
   },
   "file_extension": ".py",
   "mimetype": "text/x-python",
   "name": "python",
   "nbconvert_exporter": "python",
   "pygments_lexer": "ipython3",
   "version": "3.6.1"
  }
 },
 "nbformat": 4,
 "nbformat_minor": 2
}
