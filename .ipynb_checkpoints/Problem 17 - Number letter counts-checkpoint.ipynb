{
 "cells": [
  {
   "cell_type": "markdown",
   "metadata": {},
   "source": [
    "If the numbers 1 to 5 are written out in words: one, two, three, four, five, then there are 3 + 3 + 5 + 4 + 4 = 19 letters used in total.\n",
    "\n",
    "If all the numbers from 1 to 1000 (one thousand) inclusive were written out in words, how many letters would be used?\n",
    "\n",
    "\n",
    "NOTE: Do not count spaces or hyphens. For example, 342 (three hundred and forty-two) contains 23 letters and 115 (one hundred and fifteen) contains 20 letters. The use of \"and\" when writing out numbers is in compliance with British usage."
   ]
  },
  {
   "cell_type": "code",
   "execution_count": 42,
   "metadata": {},
   "outputs": [
    {
     "name": "stdout",
     "output_type": "stream",
     "text": [
      "The number of letters used is 21124 in 0.0025060176849365234 seconds\n"
     ]
    }
   ],
   "source": [
    "import time\n",
    "start = time.time()\n",
    "\n",
    "num2words1 = {0: '', 1: 'One', 2: 'Two', 3: 'Three', 4: 'Four', 5: 'Five',\n",
    "              6: 'Six', 7: 'Seven', 8: 'Eight', 9: 'Nine', 10: 'Ten',\n",
    "              11: 'Eleven', 12: 'Twelve', 13: 'Thirteen', 14: 'Fourteen', \n",
    "              15: 'Fifteen', 16: 'Sixteen', 17: 'Seventeen', 18: 'Eighteen', 19: 'Nineteen'}\n",
    "num2words2 = {2: 'Twenty', 3: 'Thirty', 4: 'Forty', 5: 'Fifty', \n",
    "              6: 'Sixty', 7: 'Seventy', 8: 'Eighty', 9: 'Ninety'}\n",
    "\n",
    "n = 999\n",
    "def convertToWord(n):\n",
    "    nstring = str(n)\n",
    "    if n < 20:\n",
    "        return num2words1[n]\n",
    "    elif n < 100:\n",
    "        return num2words2[int(nstring[0])] + num2words1[int(nstring[1:])]\n",
    "    elif n < 1000:\n",
    "        hundreds = num2words1[int(nstring[0])] + 'Hundred' \n",
    "        if nstring[1:] != '00':\n",
    "            hundreds = hundreds + 'and' + convertToWord(int(nstring[1:]))\n",
    "        return hundreds\n",
    "    elif n == 1000:\n",
    "        return \"OneThousand\"\n",
    "    else:\n",
    "        return ''\n",
    "\n",
    "\n",
    "\n",
    "numLetters = 0\n",
    "for i in range(1, 1001):\n",
    "    numLetters = numLetters + len(convertToWord(i))\n",
    "\n",
    "end = time.time() - start\n",
    "print(\"The number of letters used is {0} in {1} seconds\".format(numLetters, end))"
   ]
  }
 ],
 "metadata": {
  "kernelspec": {
   "display_name": "Python 3",
   "language": "python",
   "name": "python3"
  },
  "language_info": {
   "codemirror_mode": {
    "name": "ipython",
    "version": 3
   },
   "file_extension": ".py",
   "mimetype": "text/x-python",
   "name": "python",
   "nbconvert_exporter": "python",
   "pygments_lexer": "ipython3",
   "version": "3.6.1"
  }
 },
 "nbformat": 4,
 "nbformat_minor": 2
}
