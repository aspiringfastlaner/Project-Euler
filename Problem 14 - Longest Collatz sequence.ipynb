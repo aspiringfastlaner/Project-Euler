{
 "cells": [
  {
   "cell_type": "markdown",
   "metadata": {},
   "source": [
    "The following iterative sequence is defined for the set of positive integers:\n",
    "\n",
    "n → n/2 (n is even)\n",
    "n → 3n + 1 (n is odd)\n",
    "\n",
    "Using the rule above and starting with 13, we generate the following sequence:\n",
    "\n",
    "13 → 40 → 20 → 10 → 5 → 16 → 8 → 4 → 2 → 1\n",
    "It can be seen that this sequence (starting at 13 and finishing at 1) contains 10 terms. Although it has not been proved yet (Collatz Problem), it is thought that all starting numbers finish at 1.\n",
    "\n",
    "Which starting number, under one million, produces the longest chain?\n",
    "\n",
    "NOTE: Once the chain starts the terms are allowed to go above one million."
   ]
  },
  {
   "cell_type": "code",
   "execution_count": 40,
   "metadata": {},
   "outputs": [
    {
     "name": "stdout",
     "output_type": "stream",
     "text": [
      "Longest sequence number is 837799 in 88.47611951828003 seconds\n"
     ]
    }
   ],
   "source": [
    "import time\n",
    "\n",
    "start = time.time()\n",
    "\n",
    "def CollatzTerm(n):\n",
    "    if n == 0:\n",
    "        return []\n",
    "    termList = [n]\n",
    "    while n != 1:\n",
    "        if n%2 == 0:\n",
    "            n = int(n/2)\n",
    "            termList = termList + [n]\n",
    "        else:\n",
    "            n = int(n*3 + 1)\n",
    "            termList = termList + [n]\n",
    "    return termList\n",
    "\n",
    "curr_length = 0\n",
    "rnge = 1000000\n",
    "for i in range(1, rnge):\n",
    "    terms = CollatzTerm(i)\n",
    "    if len(terms) > curr_length:\n",
    "        curr_length = len(terms)\n",
    "        longest_num = i\n",
    "\n",
    "elapsed = (time.time() - start)\n",
    "print(\"Longest sequence number is {0} in {1} seconds\".format(longest_num,elapsed))"
   ]
  },
  {
   "cell_type": "code",
   "execution_count": null,
   "metadata": {},
   "outputs": [],
   "source": []
  }
 ],
 "metadata": {
  "kernelspec": {
   "display_name": "Python 3",
   "language": "python",
   "name": "python3"
  },
  "language_info": {
   "codemirror_mode": {
    "name": "ipython",
    "version": 3
   },
   "file_extension": ".py",
   "mimetype": "text/x-python",
   "name": "python",
   "nbconvert_exporter": "python",
   "pygments_lexer": "ipython3",
   "version": "3.6.1"
  }
 },
 "nbformat": 4,
 "nbformat_minor": 2
}
