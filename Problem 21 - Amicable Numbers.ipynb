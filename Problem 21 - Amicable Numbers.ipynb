{
 "cells": [
  {
   "cell_type": "markdown",
   "metadata": {},
   "source": [
    "Let d(n) be defined as the sum of proper divisors of n (numbers less than n which divide evenly into n).\n",
    "If d(a) = b and d(b) = a, where a ≠ b, then a and b are an amicable pair and each of a and b are called amicable numbers.\n",
    "\n",
    "For example, the proper divisors of 220 are 1, 2, 4, 5, 10, 11, 20, 22, 44, 55 and 110; therefore d(220) = 284. The proper divisors of 284 are 1, 2, 4, 71 and 142; so d(284) = 220.\n",
    "\n",
    "Evaluate the sum of all the amicable numbers under 10000."
   ]
  },
  {
   "cell_type": "code",
   "execution_count": 21,
   "metadata": {
    "collapsed": true
   },
   "outputs": [],
   "source": [
    "def proper_divisors(n):\n",
    "    divs = []\n",
    "    for i in range(1, round(n/2 + 1)):\n",
    "        if n % i == 0:\n",
    "            divs.append(i)\n",
    "    return divs\n",
    "\n",
    "def amicable_pair(n):\n",
    "    x1_sum = sum(proper_divisors(n))\n",
    "    x2_sum = sum(proper_divisors(x1_sum))\n",
    "    if x2_sum == n:\n",
    "        return (n, x1_sum)\n",
    "    else:\n",
    "        return (0, 0)\n",
    "    \n",
    "def am_pairs_under(n):\n",
    "    am_pairs_lst = []\n",
    "    i = 3\n",
    "    while i <= n:\n",
    "        am_pair = amicable_pair(i)\n",
    "        if am_pair != (0, 0):\n",
    "            am_pairs_lst.append(am_pair)\n",
    "            i = am_pair[0] + 1\n",
    "        else:\n",
    "            i += 1\n",
    "    return am_pairs_lst"
   ]
  },
  {
   "cell_type": "code",
   "execution_count": 24,
   "metadata": {},
   "outputs": [],
   "source": [
    "am_sum = 0\n",
    "am_lst = am_pairs_under(10001)\n",
    "for pair in am_lst:\n",
    "    am_sum += pair[0]"
   ]
  },
  {
   "cell_type": "code",
   "execution_count": 25,
   "metadata": {},
   "outputs": [
    {
     "data": {
      "text/plain": [
       "40284"
      ]
     },
     "execution_count": 25,
     "metadata": {},
     "output_type": "execute_result"
    }
   ],
   "source": [
    "am_sum"
   ]
  },
  {
   "cell_type": "code",
   "execution_count": null,
   "metadata": {
    "collapsed": true
   },
   "outputs": [],
   "source": []
  }
 ],
 "metadata": {
  "kernelspec": {
   "display_name": "Python 3",
   "language": "python",
   "name": "python3"
  },
  "language_info": {
   "codemirror_mode": {
    "name": "ipython",
    "version": 3
   },
   "file_extension": ".py",
   "mimetype": "text/x-python",
   "name": "python",
   "nbconvert_exporter": "python",
   "pygments_lexer": "ipython3",
   "version": "3.6.1"
  }
 },
 "nbformat": 4,
 "nbformat_minor": 2
}
