{
 "cells": [
  {
   "cell_type": "markdown",
   "metadata": {},
   "source": [
    "You are given the following information, but you may prefer to do some research for yourself.\n",
    "\n",
    "- 1 Jan 1900 was a Monday.\n",
    "- Thirty days has September, April, June and November.\n",
    "- All the rest have thirty-one, Saving February alone, Which has twenty-eight, rain or shine.\n",
    "- And on leap years, twenty-nine.\n",
    "- A leap year occurs on any year evenly divisible by 4, but not on a century unless it is divisible by 400.\n",
    "How many Sundays fell on the first of the month during the twentieth century (1 Jan 1901 to 31 Dec 2000)?"
   ]
  },
  {
   "cell_type": "code",
   "execution_count": 20,
   "metadata": {},
   "outputs": [
    {
     "name": "stdout",
     "output_type": "stream",
     "text": [
      "The number of months where Sunday was on the first is 171\n"
     ]
    }
   ],
   "source": [
    "# We know that Jan 1, 1901 was a Tuesday\n",
    "\n",
    "weekdays = [2]\n",
    "\n",
    "for year in range(1901,2001):\n",
    "    for month in range(1,13):\n",
    "        curr_weekday = weekdays[-1]\n",
    "        \n",
    "        if (month == 2) and (year % 4 == 0):\n",
    "            if curr_weekday == 7:\n",
    "                weekdays.append(1)\n",
    "            else:\n",
    "                weekdays.append(weekdays[-1] + 1)\n",
    "        elif month == 2:\n",
    "            weekdays.append(weekdays[-1])\n",
    "            \n",
    "        elif month in [4, 6, 9, 11]:\n",
    "            if curr_weekday == 6:\n",
    "                weekdays.append(1)\n",
    "            elif curr_weekday == 7:\n",
    "                weekdays.append(2)\n",
    "            else:\n",
    "                weekdays.append(weekdays[-1] + 2)\n",
    "                \n",
    "        else:\n",
    "            if curr_weekday == 5:\n",
    "                weekdays.append(1)\n",
    "            elif curr_weekday == 6:\n",
    "                weekdays.append(2)\n",
    "            elif curr_weekday == 7:\n",
    "                weekdays.append(3)\n",
    "            else:\n",
    "                weekdays.append(weekdays[-1] + 3)\n",
    "                \n",
    "print(\"The number of months where Sunday was on the first is {0}\".format(len(list(filter(lambda x: x == 7, weekdays)))))"
   ]
  },
  {
   "cell_type": "code",
   "execution_count": null,
   "metadata": {},
   "outputs": [],
   "source": []
  },
  {
   "cell_type": "code",
   "execution_count": null,
   "metadata": {
    "collapsed": true
   },
   "outputs": [],
   "source": []
  }
 ],
 "metadata": {
  "kernelspec": {
   "display_name": "Python 3",
   "language": "python",
   "name": "python3"
  },
  "language_info": {
   "codemirror_mode": {
    "name": "ipython",
    "version": 3
   },
   "file_extension": ".py",
   "mimetype": "text/x-python",
   "name": "python",
   "nbconvert_exporter": "python",
   "pygments_lexer": "ipython3",
   "version": "3.6.1"
  }
 },
 "nbformat": 4,
 "nbformat_minor": 2
}
